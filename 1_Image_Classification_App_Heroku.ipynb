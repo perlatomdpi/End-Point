{
  "nbformat": 4,
  "nbformat_minor": 0,
  "metadata": {
    "colab": {
      "name": "1 - Image-Classification-App-Heroku.ipynb",
      "provenance": [],
      "collapsed_sections": [],
      "toc_visible": true,
      "authorship_tag": "ABX9TyOirPQnx+wQdvNcI4EMbmlI",
      "include_colab_link": true
    },
    "kernelspec": {
      "name": "python3",
      "display_name": "Python 3"
    }
  },
  "cells": [
    {
      "cell_type": "markdown",
      "metadata": {
        "id": "view-in-github",
        "colab_type": "text"
      },
      "source": [
        "<a href=\"https://colab.research.google.com/github/perlatomdpi/End-Point/blob/main/1_Image_Classification_App_Heroku.ipynb\" target=\"_parent\"><img src=\"https://colab.research.google.com/assets/colab-badge.svg\" alt=\"Open In Colab\"/></a>"
      ]
    },
    {
      "cell_type": "markdown",
      "metadata": {
        "id": "q090RKBtTcDQ"
      },
      "source": [
        "# **Image recognition - Part 1**\n",
        "Create an image classifier and deply an end-point with Flask, Heroku and GitHub."
      ]
    },
    {
      "cell_type": "code",
      "metadata": {
        "id": "Tn-cuShDTar1"
      },
      "source": [
        "from flask import Flask, request, jsonify, url_for, render_template\n",
        "import uuid\n",
        "import os\n",
        "from tensorflow.keras.models import load_model\n",
        "import numpy as np\n",
        "from werkzeug import secure_filename                            # save data under secure file name\n",
        "from tensorflow.keras.applications import MobileNet             # pretrained NN from keras --> make prediction on images\n",
        "from PIL import Image, ImageFile                                \n",
        "from io import BytesIO\n",
        "from tensorflow.keras.preprocessing import image\n",
        "from tensorflow.keras.applications.mobilenet import preprocess_input  # the pretrained network need some pre.processing such as --> colour coding, numpy array reshaping\n",
        "from tensorflow.keras.applications.mobilenet import decode_predictions"
      ],
      "execution_count": null,
      "outputs": []
    },
    {
      "cell_type": "code",
      "metadata": {
        "id": "GSl5Ym8VYGsa"
      },
      "source": [
        "ALLOWED_EXTENSION = set(['txt', 'pdf', 'png','jpg','jpeg','gif'])   # list of extantion \n",
        "IMAGE_HEIGHT =224\n",
        "IMAGE_WIDTH = 224\n",
        "IMAGE_CHANNELS = 3   # 3 --> rgb images\n",
        "os.chdir(r'C:\\Users\\danie\\Desktop\\Flask UdemyKurs')"
      ],
      "execution_count": null,
      "outputs": []
    },
    {
      "cell_type": "code",
      "metadata": {
        "id": "yK2Nwc7PfREr"
      },
      "source": [
        ""
      ],
      "execution_count": null,
      "outputs": []
    }
  ]
}