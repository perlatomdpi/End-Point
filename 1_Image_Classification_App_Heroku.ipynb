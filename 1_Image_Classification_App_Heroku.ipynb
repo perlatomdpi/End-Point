{
  "nbformat": 4,
  "nbformat_minor": 0,
  "metadata": {
    "colab": {
      "name": "1 - Image-Classification-App-Heroku.ipynb",
      "provenance": [],
      "collapsed_sections": [],
      "toc_visible": true,
      "authorship_tag": "ABX9TyMKBVQmnvF3h3GfuU078qTk",
      "include_colab_link": true
    },
    "kernelspec": {
      "name": "python3",
      "display_name": "Python 3"
    }
  },
  "cells": [
    {
      "cell_type": "markdown",
      "metadata": {
        "id": "view-in-github",
        "colab_type": "text"
      },
      "source": [
        "<a href=\"https://colab.research.google.com/github/perlatomdpi/End-Point/blob/main/1_Image_Classification_App_Heroku.ipynb\" target=\"_parent\"><img src=\"https://colab.research.google.com/assets/colab-badge.svg\" alt=\"Open In Colab\"/></a>"
      ]
    },
    {
      "cell_type": "markdown",
      "metadata": {
        "id": "q090RKBtTcDQ"
      },
      "source": [
        "# **Image recognition - Part 1**\n",
        "Create an image classifier and deply an end-point with Flask, Heroku and GitHub. <br>\n"
      ]
    },
    {
      "cell_type": "code",
      "metadata": {
        "id": "Tn-cuShDTar1"
      },
      "source": [
        "from flask import Flask, request, jsonify, url_for, render_template\n",
        "import uuid\n",
        "import os\n",
        "from tensorflow.keras.models import load_model\n",
        "import numpy as np\n",
        "from werkzeug import secure_filename                            # save data under secure file name\n",
        "from tensorflow.keras.applications import MobileNet             # pretrained NN from keras --> make prediction on images\n",
        "from PIL import Image, ImageFile                                \n",
        "from io import BytesIO\n",
        "from tensorflow.keras.preprocessing import image\n",
        "from tensorflow.keras.applications.mobilenet import preprocess_input  # the pretrained network need some pre.processing such as --> colour coding, numpy array reshaping\n",
        "from tensorflow.keras.applications.mobilenet import decode_predictions"
      ],
      "execution_count": null,
      "outputs": []
    },
    {
      "cell_type": "code",
      "metadata": {
        "id": "GSl5Ym8VYGsa"
      },
      "source": [
        "ALLOWED_EXTENSION = set(['txt', 'pdf', 'png', 'jpg', 'jpeg', 'gif'])   # list of extantion \n",
        "IMAGE_HEIGHT =224\n",
        "IMAGE_WIDTH = 224\n",
        "IMAGE_CHANNELS = 3   # 3 --> rgb images\n",
        "os.chdir(r'/home/utente/.../imageclass)"
      ],
      "execution_count": null,
      "outputs": []
    },
    {
      "cell_type": "code",
      "metadata": {
        "id": "yK2Nwc7PfREr"
      },
      "source": [
        "# check if the extantion is an imaghe extantion\n",
        "def allowed_file(filename):\n",
        "    return '.' in filename and filename.rsplit('.',1)[1] in ALLOWED_EXTENSION # we split the picture in the dot and [1] --> png"
      ],
      "execution_count": null,
      "outputs": []
    },
    {
      "cell_type": "markdown",
      "metadata": {
        "id": "9Q6xIYxFUVab"
      },
      "source": [
        "# **Create the Flask web application**"
      ]
    },
    {
      "cell_type": "code",
      "metadata": {
        "id": "vwo2soOnT_bu"
      },
      "source": [
        "app = Flask(__name__)\n",
        "model = MobileNet(weights='imagenet', include_top=True)    # weights='imagenet' --> use a pre-trained NN weights\n",
        "                                                           # include_top=True --< not retrain the NN\n",
        "\n",
        "\n",
        "\n",
        "# end-point 1\n",
        "@app.route('/index')\n",
        "def index():\n",
        "    return render_template('ImageML.html') # inside the imageclass folder there is the \"static folder\" \n",
        "                                           # and \"template folder\" where is store the ImageML.html --> the template of the homepage\n",
        "\n",
        "\n",
        "\n",
        "# end-point 2 --> prediction route\n",
        "@app.route('/api/image', methods=['POST'])\n",
        "def upload_image():\n",
        "    if 'image' not in request.files:\n",
        "        return render_template('ImageML.html', prediction='No posted image. Should be attribute named image')   # if not an image extension\n",
        "    file = request.files['image']                                                                               # render_template is inside the css code\n",
        "    \n",
        "    if file.filename =='':\n",
        "        return render_template('ImageML.html', prediction = 'You did not select an image')   # if nothig selected\n",
        "    \n",
        "    if file and allowed_file(file.filename):     # if we hava a file with allowed extension\n",
        "        filename = secure_filename(file.filename)  # werkzeug --> rename the file in case there is a strange character in the filename\n",
        "        print(\"***\"+filename)                      \n",
        "        x = []                                     # define an empty list\n",
        "        ImageFile.LOAD_TRUNCATED_IMAGES = False    \n",
        "        img = Image.open(BytesIO(file.read()))     # open the image and read it in bytes\n",
        "        img.load()                                 # load the image\n",
        "        img  = img.resize((IMAGE_WIDTH, IMAGE_HEIGHT), Image.ANTIALIAS)   # resize the image\n",
        "        x  = image.img_to_array(img)      # convert image to an array\n",
        "        x = np.expand_dims(x, axis=0)     # expand dimentions --> from the array reshape another dimension so that the array start with one        x  = preprocess_input(x)\n",
        "        pred = model.predict(x)                 # predict\n",
        "        lst =  decode_predictions(pred, top=3)  # and store the prediction into a list, and give me top3 prediction of the image classification\n",
        "        \n",
        "        items = []\n",
        "        for item in lst[0]:  # lst[0] --> is the prediction\n",
        "            items.append({'name': item[1], 'prob': float(item[2])}) # append to the list --> the name and probability\n",
        "        \n",
        "        response = {'pred': items}  # give back name and probability of the prediction\n",
        "        return render_template('ImageML.html', prediction = 'I would say the image is most likely {}'.format(response))\n",
        "    else:\n",
        "        return render_template('ImageML.html', prediction = 'Invalid File extension')\n",
        "\n",
        "if __name__ == '__main__':\n",
        "    app.run(debug=True, use_reloader=False)  # run the app in  the debug mode"
      ],
      "execution_count": null,
      "outputs": []
    }
  ]
}