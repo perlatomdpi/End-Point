{
  "nbformat": 4,
  "nbformat_minor": 0,
  "metadata": {
    "colab": {
      "name": "3-Create-Flask-App-part-1.ipynb",
      "provenance": [],
      "collapsed_sections": [],
      "toc_visible": true,
      "authorship_tag": "ABX9TyONhfuGsmLU3hpmqyi31+Ud",
      "include_colab_link": true
    },
    "kernelspec": {
      "name": "python3",
      "display_name": "Python 3"
    }
  },
  "cells": [
    {
      "cell_type": "markdown",
      "metadata": {
        "id": "view-in-github",
        "colab_type": "text"
      },
      "source": [
        "<a href=\"https://colab.research.google.com/github/perlatomdpi/End-Point/blob/main/3_Create_Flask_App_part_1.ipynb\" target=\"_parent\"><img src=\"https://colab.research.google.com/assets/colab-badge.svg\" alt=\"Open In Colab\"/></a>"
      ]
    },
    {
      "cell_type": "markdown",
      "metadata": {
        "id": "OC0f9m5U_w4a"
      },
      "source": [
        "# **Create Flask Application - Part 1**\n",
        "\n"
      ]
    },
    {
      "cell_type": "code",
      "metadata": {
        "id": "3oee3gBO_wXV"
      },
      "source": [
        "from tensorflow.keras.models import load_model\n",
        "from flask import Flask, request, jsonifly   # we use json to return data in the flask app\n",
        "import os\n",
        "import numpy as np\n",
        "import uuid  # identifier\n",
        "\n",
        "app = Flask(__name__)  # create flask application"
      ],
      "execution_count": null,
      "outputs": []
    },
    {
      "cell_type": "code",
      "metadata": {
        "id": "XtCJ_k4BAkWp"
      },
      "source": [
        "# create checks in our application \n",
        "# to be sure that those  checks are met in order to make a prediction right with no errors\n",
        "# these checks ensure us that the end-user will not get any errors\n",
        "# to esure this, we create the \"Expected\" variable with the boundary values of each predictors\n",
        "\n",
        "Expected = {\n",
        "\"cylinders\":{\"min\":3,\"max\":8},\n",
        "\"displacement\":{\"min\":68.0,\"max\":455.0},\n",
        "\"horsepower\":{\"min\":46.0,\"max\":230.0},\n",
        "\"weight\":{\"min\":1613,\"max\":5140},\n",
        "\"acceleration\":{\"min\":8.0,\"max\":24.8},\n",
        "\"year\":{\"min\":70,\"max\":82},\n",
        "\"origiin\":{\"min\":1,\"max\":3},\n",
        "}"
      ],
      "execution_count": null,
      "outputs": []
    },
    {
      "cell_type": "code",
      "metadata": {
        "id": "zETjDotDFj7h"
      },
      "source": [
        "# load the model\n",
        "os.chdir(r'C:\\User...\\Deploy')  \n",
        "model = load_model(os.path.join(os.getcwd(), \"mpg_model.h5\"))\n",
        "\n",
        "model.summary()   # check if the momdel is available"
      ],
      "execution_count": null,
      "outputs": []
    },
    {
      "cell_type": "markdown",
      "metadata": {
        "id": "QelG3GgMLl61"
      },
      "source": [
        "# **Create Flask Application - Part 2**\n",
        "Create Flask end-point and ensure data quality checks."
      ]
    },
    {
      "cell_type": "code",
      "metadata": {
        "id": "eyEsutQpLuJn"
      },
      "source": [
        "# define the end point\n",
        "@app.route('/api', methods=['POST'])   # send the data to the end point, and define the method --> post (send) data to the end point\n",
        "\n",
        "def mpg_prediction():\n",
        "    content = request.json    # get json data --> similar to a python dictionary\n",
        "    errors = []               # list of errors\n",
        "    for name in content:\n",
        "        if name in Expected:  \n",
        "            expected_min = Expected[name]['min']\n",
        "            expected_max = Expected[name]['max']\n",
        "            value = content[name]\n",
        "            if value < expected_min or value > expected_max:   # ensure to get valid data\n",
        "                errors.append(f\"Out of bounds:{name}, has a value of:{value}, but it should be between {expected_min} and {expected_max}\")\n",
        "        else:\n",
        "            errors.append(f\"Unexpected field: {name}\")\n",
        "    for name in Expected:\n",
        "        if name not in content:\n",
        "            errors.append(f\"Missing value:{name}\")\n",
        "    if len(errors)<1:                                          # if there are not errors\n",
        "        x = np.zeros((1,7))                                    # create a zeros array with 1 rowa dn 7 columns --> 7 are our predictors of mpg\n",
        "        x[0,0] = content['cylinders']\n",
        "        x[0,1] = content['displacement']\n",
        "        x[0,2] = content['horsepower']\n",
        "        x[0,3] = content['weight']\n",
        "        x[0,4] = content['acceleration']\n",
        "        x[0,5] = content['year']\n",
        "        x[0,6] = content['origin']\n",
        "\n",
        "        predict = model.predict(x)\n",
        "        mpg = float(prediction[0])\n",
        "        response ={\"id\": str(uuid4.uuid4()), \"mpg\": mpg, \"errors\":errors}      # \"id\": str(uuid4.uuid4()) --> refers to unique id\n",
        "    else:                                                       # if there are errors -- len(errors)>1\n",
        "        response = {\"id\": str(uuid4.uuid4()), \"errors\":errors}\n",
        "\n",
        "    return jsonify(response)\n",
        "\n",
        "\n",
        "# run application\n",
        "if __name__ == '__main__':\n",
        "    app.run(debug=True, use_reloader=False)    # debag is true because we are testing the app"
      ],
      "execution_count": null,
      "outputs": []
    },
    {
      "cell_type": "markdown",
      "metadata": {
        "id": "HXbRRloUnGcK"
      },
      "source": [
        "Service Flask app \"__main__\" (lazy loading) <br>\n",
        "Environment: priduction <br>\n",
        "Warining: Do not use the development server in a production environment. <br>\n",
        "Use a production WSGI server instead. <br>\n",
        "Debug mode: on "
      ]
    },
    {
      "cell_type": "markdown",
      "metadata": {
        "id": "6tGTTktrnmqB"
      },
      "source": [
        "# **Create Flask Application - Part 3**\n",
        "Testing our API endpoint. <br>\n",
        "Making prediction using Python and Requests library."
      ]
    },
    {
      "cell_type": "code",
      "metadata": {
        "id": "UNKac79DoHKo"
      },
      "source": [
        "# Making prediction using Python and Requests library\n",
        "import requests\n",
        "\n",
        "json = {\"cylinders\":8,               # dictionary used as input prediction values\n",
        "       \"displacement\":{200,\n",
        "       \"horsepower\":80,\n",
        "       \"weight\":{2500,\n",
        "       \"acceleration\":30,\n",
        "       \"year\":{\"min\":80,\n",
        "       \"origiin\":3}\n",
        "\n",
        "r = request.post(\"http://localhost:5000/api\", json=json)  # the defalut flask port is 5000 and the end point we preaviously defined is \"api\"\n",
        "\n",
        "if r.status_code == 200:  # 200 means --> that the request if fine\n",
        "    print(\"Works: {}\".format(r.text))\n",
        "else: print(\"Fail: {}\".format(r.text))"
      ],
      "execution_count": null,
      "outputs": []
    },
    {
      "cell_type": "markdown",
      "metadata": {
        "id": "roVm2sFu1s10"
      },
      "source": [
        "Making prediction using Postman. <br>\n",
        "\n",
        "We can also use tools sich as Postman that allows to make requests: <br> \n",
        "1 - POST: http://127.0.0.1:500/api <br>\n",
        "2 - Define inside the headers a content type --> applicaition/json --> set postman to send json data <br>\n",
        "3 - Defne the body: row data in json\n",
        "\n"
      ]
    }
  ]
}