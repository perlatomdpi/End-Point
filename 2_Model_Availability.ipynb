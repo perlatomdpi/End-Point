{
  "nbformat": 4,
  "nbformat_minor": 0,
  "metadata": {
    "colab": {
      "name": "2-Model-Availability.ipynb",
      "provenance": [],
      "collapsed_sections": [],
      "toc_visible": true,
      "authorship_tag": "ABX9TyN7HjC07Xbfu4ZKZ2I5M1v9",
      "include_colab_link": true
    },
    "kernelspec": {
      "name": "python3",
      "display_name": "Python 3"
    }
  },
  "cells": [
    {
      "cell_type": "markdown",
      "metadata": {
        "id": "view-in-github",
        "colab_type": "text"
      },
      "source": [
        "<a href=\"https://colab.research.google.com/github/perlatomdpi/End-Point/blob/main/2_Model_Availability.ipynb\" target=\"_parent\"><img src=\"https://colab.research.google.com/assets/colab-badge.svg\" alt=\"Open In Colab\"/></a>"
      ]
    },
    {
      "cell_type": "markdown",
      "metadata": {
        "id": "5To1-iOPrQ_c"
      },
      "source": [
        "# **Model availability**\n",
        "Testing the model abailability and make prediction.\n",
        "Here we upload the prained model that we saved in: 1-Define-model.ipynb"
      ]
    },
    {
      "cell_type": "code",
      "metadata": {
        "id": "fEKXINdBrP6d"
      },
      "source": [
        "import os\n",
        "import numpy as np\n",
        "from tensorflow.keras.models import load_model   # upload a saved model\n",
        "\n",
        "os.chdir(r'C:\\User...\\Deploy')  \n",
        "model = load_model(os.path.join(os.getcwd(), \"mpg_model.h5\"))\n",
        "\n",
        "model.summary()   # check if the momdel is available"
      ],
      "execution_count": null,
      "outputs": []
    },
    {
      "cell_type": "code",
      "metadata": {
        "id": "nhpLJNQI3Zix"
      },
      "source": [
        "# make a prediction with the saved trained model\n",
        "\n",
        "x = np.zeros((1,7))  # create a zeros array with 1 rowa dn 7 columns --> 7 are our predictors of mpg\n",
        "\n",
        "# get some values of our predictors\n",
        "x[0,0] = 5\n",
        "x[0,1] = 200\n",
        "x[0,2] = 50\n",
        "x[0,3] = 3000\n",
        "x[0,4] = 20\n",
        "x[0,5] = 80\n",
        "x[0,6] = 2\n",
        "\n",
        "prediction = model.predict(x)        # predict mpg from the values above assigned to the predictors\n",
        "float(prediction[0])"
      ],
      "execution_count": null,
      "outputs": []
    },
    {
      "cell_type": "markdown",
      "metadata": {
        "id": "1tBmjX1R5Dc-"
      },
      "source": [
        "The mpg based on the assigned predictors values is: 30.0042545352"
      ]
    },
    {
      "cell_type": "markdown",
      "metadata": {
        "id": "zsWexzHF6wc6"
      },
      "source": [
        "# **Iterate all the values of the predictors**"
      ]
    },
    {
      "cell_type": "code",
      "metadata": {
        "id": "dgt7WlqU5yoP"
      },
      "source": [
        "# show me the column names --> predictors\n",
        "cols = [x for in df.columns if not in ('mpg', 'name')]; cols\n",
        "\n",
        "\n",
        "# extract the min and max values per each predictors\n",
        "# we calculate min and max (boundaries) of the predictors because we have to choose between these boundaries when we make prediction\n",
        "print(\"{\")\n",
        "for i, name in enumerate(cols):\n",
        "    print(f'\"{name}\":{{\"min\":{df[name].min()}, \"max\":{df[name].max()}}} {\",\" if i>(len(col)-1) else \"\"}')\n",
        "print(\"}\")   "
      ],
      "execution_count": null,
      "outputs": []
    },
    {
      "cell_type": "markdown",
      "metadata": {
        "id": "V3hvB132EU66"
      },
      "source": [
        "{ <br>\n",
        "\"cylinders\":{\"min\":3,\"max\":8}, <br>\n",
        "\"displacement\":{\"min\":68.0,\"max\":455.0}, <br>\n",
        "\"horsepower\":{\"min\":46.0,\"max\":230.0}, <br>\n",
        "\"weight\":{\"min\":1613,\"max\":5140}, <br>\n",
        "\"acceleration\":{\"min\":8.0,\"max\":24.8}, <br>\n",
        "\"year\":{\"min\":70,\"max\":82}, <br>\n",
        "\"origiin\":{\"min\":1,\"max\":3}, <br>\n",
        "}"
      ]
    }
  ]
}